{
  "nbformat": 4,
  "nbformat_minor": 0,
  "metadata": {
    "colab": {
      "name": "2048057_Program_2.ipynb",
      "provenance": []
    },
    "kernelspec": {
      "name": "python3",
      "display_name": "Python 3"
    },
    "language_info": {
      "name": "python"
    }
  },
  "cells": [
    {
      "cell_type": "markdown",
      "metadata": {
        "id": "LSxez52Erf6c"
      },
      "source": [
        "---\n",
        "# <center> **NLP PROGRAM-2** </center>\n",
        "## <center> A program to count word frequency and to remove stop words </center>\n",
        "#### <center> Soundarya G_ 2048057</center>\n",
        "---"
      ]
    },
    {
      "cell_type": "markdown",
      "metadata": {
        "id": "dC6koaOl-PaH"
      },
      "source": [
        "## Import necessary libraries"
      ]
    },
    {
      "cell_type": "code",
      "metadata": {
        "colab": {
          "base_uri": "https://localhost:8080/"
        },
        "id": "YyVn0NFMxB6G",
        "outputId": "f7e21841-b077-43f7-bdd2-67685c2b40f3"
      },
      "source": [
        "import nltk\n",
        "nltk.download(\"all\")"
      ],
      "execution_count": null,
      "outputs": [
        {
          "output_type": "stream",
          "text": [
            "[nltk_data] Downloading collection 'all'\n",
            "[nltk_data]    | \n",
            "[nltk_data]    | Downloading package abc to /root/nltk_data...\n",
            "[nltk_data]    |   Package abc is already up-to-date!\n",
            "[nltk_data]    | Downloading package alpino to /root/nltk_data...\n",
            "[nltk_data]    |   Package alpino is already up-to-date!\n",
            "[nltk_data]    | Downloading package biocreative_ppi to\n",
            "[nltk_data]    |     /root/nltk_data...\n",
            "[nltk_data]    |   Package biocreative_ppi is already up-to-date!\n",
            "[nltk_data]    | Downloading package brown to /root/nltk_data...\n",
            "[nltk_data]    |   Package brown is already up-to-date!\n",
            "[nltk_data]    | Downloading package brown_tei to /root/nltk_data...\n",
            "[nltk_data]    |   Package brown_tei is already up-to-date!\n",
            "[nltk_data]    | Downloading package cess_cat to /root/nltk_data...\n",
            "[nltk_data]    |   Package cess_cat is already up-to-date!\n",
            "[nltk_data]    | Downloading package cess_esp to /root/nltk_data...\n",
            "[nltk_data]    |   Package cess_esp is already up-to-date!\n",
            "[nltk_data]    | Downloading package chat80 to /root/nltk_data...\n",
            "[nltk_data]    |   Package chat80 is already up-to-date!\n",
            "[nltk_data]    | Downloading package city_database to\n",
            "[nltk_data]    |     /root/nltk_data...\n",
            "[nltk_data]    |   Package city_database is already up-to-date!\n",
            "[nltk_data]    | Downloading package cmudict to /root/nltk_data...\n",
            "[nltk_data]    |   Package cmudict is already up-to-date!\n",
            "[nltk_data]    | Downloading package comparative_sentences to\n",
            "[nltk_data]    |     /root/nltk_data...\n",
            "[nltk_data]    |   Package comparative_sentences is already up-to-\n",
            "[nltk_data]    |       date!\n",
            "[nltk_data]    | Downloading package comtrans to /root/nltk_data...\n",
            "[nltk_data]    |   Package comtrans is already up-to-date!\n",
            "[nltk_data]    | Downloading package conll2000 to /root/nltk_data...\n",
            "[nltk_data]    |   Package conll2000 is already up-to-date!\n",
            "[nltk_data]    | Downloading package conll2002 to /root/nltk_data...\n",
            "[nltk_data]    |   Package conll2002 is already up-to-date!\n",
            "[nltk_data]    | Downloading package conll2007 to /root/nltk_data...\n",
            "[nltk_data]    |   Package conll2007 is already up-to-date!\n",
            "[nltk_data]    | Downloading package crubadan to /root/nltk_data...\n",
            "[nltk_data]    |   Package crubadan is already up-to-date!\n",
            "[nltk_data]    | Downloading package dependency_treebank to\n",
            "[nltk_data]    |     /root/nltk_data...\n",
            "[nltk_data]    |   Package dependency_treebank is already up-to-date!\n",
            "[nltk_data]    | Downloading package dolch to /root/nltk_data...\n",
            "[nltk_data]    |   Package dolch is already up-to-date!\n",
            "[nltk_data]    | Downloading package europarl_raw to\n",
            "[nltk_data]    |     /root/nltk_data...\n",
            "[nltk_data]    |   Package europarl_raw is already up-to-date!\n",
            "[nltk_data]    | Downloading package floresta to /root/nltk_data...\n",
            "[nltk_data]    |   Package floresta is already up-to-date!\n",
            "[nltk_data]    | Downloading package framenet_v15 to\n",
            "[nltk_data]    |     /root/nltk_data...\n",
            "[nltk_data]    |   Package framenet_v15 is already up-to-date!\n",
            "[nltk_data]    | Downloading package framenet_v17 to\n",
            "[nltk_data]    |     /root/nltk_data...\n",
            "[nltk_data]    |   Package framenet_v17 is already up-to-date!\n",
            "[nltk_data]    | Downloading package gazetteers to /root/nltk_data...\n",
            "[nltk_data]    |   Package gazetteers is already up-to-date!\n",
            "[nltk_data]    | Downloading package genesis to /root/nltk_data...\n",
            "[nltk_data]    |   Package genesis is already up-to-date!\n",
            "[nltk_data]    | Downloading package gutenberg to /root/nltk_data...\n",
            "[nltk_data]    |   Package gutenberg is already up-to-date!\n",
            "[nltk_data]    | Downloading package ieer to /root/nltk_data...\n",
            "[nltk_data]    |   Package ieer is already up-to-date!\n",
            "[nltk_data]    | Downloading package inaugural to /root/nltk_data...\n",
            "[nltk_data]    |   Package inaugural is already up-to-date!\n",
            "[nltk_data]    | Downloading package indian to /root/nltk_data...\n",
            "[nltk_data]    |   Package indian is already up-to-date!\n",
            "[nltk_data]    | Downloading package jeita to /root/nltk_data...\n",
            "[nltk_data]    |   Package jeita is already up-to-date!\n",
            "[nltk_data]    | Downloading package kimmo to /root/nltk_data...\n",
            "[nltk_data]    |   Package kimmo is already up-to-date!\n",
            "[nltk_data]    | Downloading package knbc to /root/nltk_data...\n",
            "[nltk_data]    |   Package knbc is already up-to-date!\n",
            "[nltk_data]    | Downloading package lin_thesaurus to\n",
            "[nltk_data]    |     /root/nltk_data...\n",
            "[nltk_data]    |   Package lin_thesaurus is already up-to-date!\n",
            "[nltk_data]    | Downloading package mac_morpho to /root/nltk_data...\n",
            "[nltk_data]    |   Package mac_morpho is already up-to-date!\n",
            "[nltk_data]    | Downloading package machado to /root/nltk_data...\n",
            "[nltk_data]    |   Package machado is already up-to-date!\n",
            "[nltk_data]    | Downloading package masc_tagged to /root/nltk_data...\n",
            "[nltk_data]    |   Package masc_tagged is already up-to-date!\n",
            "[nltk_data]    | Downloading package moses_sample to\n",
            "[nltk_data]    |     /root/nltk_data...\n",
            "[nltk_data]    |   Package moses_sample is already up-to-date!\n",
            "[nltk_data]    | Downloading package movie_reviews to\n",
            "[nltk_data]    |     /root/nltk_data...\n",
            "[nltk_data]    |   Package movie_reviews is already up-to-date!\n",
            "[nltk_data]    | Downloading package names to /root/nltk_data...\n",
            "[nltk_data]    |   Package names is already up-to-date!\n",
            "[nltk_data]    | Downloading package nombank.1.0 to /root/nltk_data...\n",
            "[nltk_data]    |   Package nombank.1.0 is already up-to-date!\n",
            "[nltk_data]    | Downloading package nps_chat to /root/nltk_data...\n",
            "[nltk_data]    |   Package nps_chat is already up-to-date!\n",
            "[nltk_data]    | Downloading package omw to /root/nltk_data...\n",
            "[nltk_data]    |   Package omw is already up-to-date!\n",
            "[nltk_data]    | Downloading package opinion_lexicon to\n",
            "[nltk_data]    |     /root/nltk_data...\n",
            "[nltk_data]    |   Package opinion_lexicon is already up-to-date!\n",
            "[nltk_data]    | Downloading package paradigms to /root/nltk_data...\n",
            "[nltk_data]    |   Package paradigms is already up-to-date!\n",
            "[nltk_data]    | Downloading package pil to /root/nltk_data...\n",
            "[nltk_data]    |   Package pil is already up-to-date!\n",
            "[nltk_data]    | Downloading package pl196x to /root/nltk_data...\n",
            "[nltk_data]    |   Package pl196x is already up-to-date!\n",
            "[nltk_data]    | Downloading package ppattach to /root/nltk_data...\n",
            "[nltk_data]    |   Package ppattach is already up-to-date!\n",
            "[nltk_data]    | Downloading package problem_reports to\n",
            "[nltk_data]    |     /root/nltk_data...\n",
            "[nltk_data]    |   Package problem_reports is already up-to-date!\n",
            "[nltk_data]    | Downloading package propbank to /root/nltk_data...\n",
            "[nltk_data]    |   Package propbank is already up-to-date!\n",
            "[nltk_data]    | Downloading package ptb to /root/nltk_data...\n",
            "[nltk_data]    |   Package ptb is already up-to-date!\n",
            "[nltk_data]    | Downloading package product_reviews_1 to\n",
            "[nltk_data]    |     /root/nltk_data...\n",
            "[nltk_data]    |   Package product_reviews_1 is already up-to-date!\n",
            "[nltk_data]    | Downloading package product_reviews_2 to\n",
            "[nltk_data]    |     /root/nltk_data...\n",
            "[nltk_data]    |   Package product_reviews_2 is already up-to-date!\n",
            "[nltk_data]    | Downloading package pros_cons to /root/nltk_data...\n",
            "[nltk_data]    |   Package pros_cons is already up-to-date!\n",
            "[nltk_data]    | Downloading package qc to /root/nltk_data...\n",
            "[nltk_data]    |   Package qc is already up-to-date!\n",
            "[nltk_data]    | Downloading package reuters to /root/nltk_data...\n",
            "[nltk_data]    |   Package reuters is already up-to-date!\n",
            "[nltk_data]    | Downloading package rte to /root/nltk_data...\n",
            "[nltk_data]    |   Package rte is already up-to-date!\n",
            "[nltk_data]    | Downloading package semcor to /root/nltk_data...\n",
            "[nltk_data]    |   Package semcor is already up-to-date!\n",
            "[nltk_data]    | Downloading package senseval to /root/nltk_data...\n",
            "[nltk_data]    |   Package senseval is already up-to-date!\n",
            "[nltk_data]    | Downloading package sentiwordnet to\n",
            "[nltk_data]    |     /root/nltk_data...\n",
            "[nltk_data]    |   Package sentiwordnet is already up-to-date!\n",
            "[nltk_data]    | Downloading package sentence_polarity to\n",
            "[nltk_data]    |     /root/nltk_data...\n",
            "[nltk_data]    |   Package sentence_polarity is already up-to-date!\n",
            "[nltk_data]    | Downloading package shakespeare to /root/nltk_data...\n",
            "[nltk_data]    |   Package shakespeare is already up-to-date!\n",
            "[nltk_data]    | Downloading package sinica_treebank to\n",
            "[nltk_data]    |     /root/nltk_data...\n",
            "[nltk_data]    |   Package sinica_treebank is already up-to-date!\n",
            "[nltk_data]    | Downloading package smultron to /root/nltk_data...\n",
            "[nltk_data]    |   Package smultron is already up-to-date!\n",
            "[nltk_data]    | Downloading package state_union to /root/nltk_data...\n",
            "[nltk_data]    |   Package state_union is already up-to-date!\n",
            "[nltk_data]    | Downloading package stopwords to /root/nltk_data...\n",
            "[nltk_data]    |   Package stopwords is already up-to-date!\n",
            "[nltk_data]    | Downloading package subjectivity to\n",
            "[nltk_data]    |     /root/nltk_data...\n",
            "[nltk_data]    |   Package subjectivity is already up-to-date!\n",
            "[nltk_data]    | Downloading package swadesh to /root/nltk_data...\n",
            "[nltk_data]    |   Package swadesh is already up-to-date!\n",
            "[nltk_data]    | Downloading package switchboard to /root/nltk_data...\n",
            "[nltk_data]    |   Package switchboard is already up-to-date!\n",
            "[nltk_data]    | Downloading package timit to /root/nltk_data...\n",
            "[nltk_data]    |   Package timit is already up-to-date!\n",
            "[nltk_data]    | Downloading package toolbox to /root/nltk_data...\n",
            "[nltk_data]    |   Package toolbox is already up-to-date!\n",
            "[nltk_data]    | Downloading package treebank to /root/nltk_data...\n",
            "[nltk_data]    |   Package treebank is already up-to-date!\n",
            "[nltk_data]    | Downloading package twitter_samples to\n",
            "[nltk_data]    |     /root/nltk_data...\n",
            "[nltk_data]    |   Package twitter_samples is already up-to-date!\n",
            "[nltk_data]    | Downloading package udhr to /root/nltk_data...\n",
            "[nltk_data]    |   Package udhr is already up-to-date!\n",
            "[nltk_data]    | Downloading package udhr2 to /root/nltk_data...\n",
            "[nltk_data]    |   Package udhr2 is already up-to-date!\n",
            "[nltk_data]    | Downloading package unicode_samples to\n",
            "[nltk_data]    |     /root/nltk_data...\n",
            "[nltk_data]    |   Package unicode_samples is already up-to-date!\n",
            "[nltk_data]    | Downloading package universal_treebanks_v20 to\n",
            "[nltk_data]    |     /root/nltk_data...\n",
            "[nltk_data]    |   Package universal_treebanks_v20 is already up-to-\n",
            "[nltk_data]    |       date!\n",
            "[nltk_data]    | Downloading package verbnet to /root/nltk_data...\n",
            "[nltk_data]    |   Package verbnet is already up-to-date!\n",
            "[nltk_data]    | Downloading package verbnet3 to /root/nltk_data...\n",
            "[nltk_data]    |   Package verbnet3 is already up-to-date!\n",
            "[nltk_data]    | Downloading package webtext to /root/nltk_data...\n",
            "[nltk_data]    |   Package webtext is already up-to-date!\n",
            "[nltk_data]    | Downloading package wordnet to /root/nltk_data...\n",
            "[nltk_data]    |   Package wordnet is already up-to-date!\n",
            "[nltk_data]    | Downloading package wordnet_ic to /root/nltk_data...\n",
            "[nltk_data]    |   Package wordnet_ic is already up-to-date!\n",
            "[nltk_data]    | Downloading package words to /root/nltk_data...\n",
            "[nltk_data]    |   Package words is already up-to-date!\n",
            "[nltk_data]    | Downloading package ycoe to /root/nltk_data...\n",
            "[nltk_data]    |   Package ycoe is already up-to-date!\n",
            "[nltk_data]    | Downloading package rslp to /root/nltk_data...\n",
            "[nltk_data]    |   Package rslp is already up-to-date!\n",
            "[nltk_data]    | Downloading package maxent_treebank_pos_tagger to\n",
            "[nltk_data]    |     /root/nltk_data...\n",
            "[nltk_data]    |   Package maxent_treebank_pos_tagger is already up-\n",
            "[nltk_data]    |       to-date!\n",
            "[nltk_data]    | Downloading package universal_tagset to\n",
            "[nltk_data]    |     /root/nltk_data...\n",
            "[nltk_data]    |   Package universal_tagset is already up-to-date!\n",
            "[nltk_data]    | Downloading package maxent_ne_chunker to\n",
            "[nltk_data]    |     /root/nltk_data...\n",
            "[nltk_data]    |   Package maxent_ne_chunker is already up-to-date!\n",
            "[nltk_data]    | Downloading package punkt to /root/nltk_data...\n",
            "[nltk_data]    |   Package punkt is already up-to-date!\n",
            "[nltk_data]    | Downloading package book_grammars to\n",
            "[nltk_data]    |     /root/nltk_data...\n",
            "[nltk_data]    |   Package book_grammars is already up-to-date!\n",
            "[nltk_data]    | Downloading package sample_grammars to\n",
            "[nltk_data]    |     /root/nltk_data...\n",
            "[nltk_data]    |   Package sample_grammars is already up-to-date!\n",
            "[nltk_data]    | Downloading package spanish_grammars to\n",
            "[nltk_data]    |     /root/nltk_data...\n",
            "[nltk_data]    |   Package spanish_grammars is already up-to-date!\n",
            "[nltk_data]    | Downloading package basque_grammars to\n",
            "[nltk_data]    |     /root/nltk_data...\n",
            "[nltk_data]    |   Package basque_grammars is already up-to-date!\n",
            "[nltk_data]    | Downloading package large_grammars to\n",
            "[nltk_data]    |     /root/nltk_data...\n",
            "[nltk_data]    |   Package large_grammars is already up-to-date!\n",
            "[nltk_data]    | Downloading package tagsets to /root/nltk_data...\n",
            "[nltk_data]    |   Package tagsets is already up-to-date!\n",
            "[nltk_data]    | Downloading package snowball_data to\n",
            "[nltk_data]    |     /root/nltk_data...\n",
            "[nltk_data]    |   Package snowball_data is already up-to-date!\n",
            "[nltk_data]    | Downloading package bllip_wsj_no_aux to\n",
            "[nltk_data]    |     /root/nltk_data...\n",
            "[nltk_data]    |   Package bllip_wsj_no_aux is already up-to-date!\n",
            "[nltk_data]    | Downloading package word2vec_sample to\n",
            "[nltk_data]    |     /root/nltk_data...\n",
            "[nltk_data]    |   Package word2vec_sample is already up-to-date!\n",
            "[nltk_data]    | Downloading package panlex_swadesh to\n",
            "[nltk_data]    |     /root/nltk_data...\n",
            "[nltk_data]    |   Package panlex_swadesh is already up-to-date!\n",
            "[nltk_data]    | Downloading package mte_teip5 to /root/nltk_data...\n",
            "[nltk_data]    |   Package mte_teip5 is already up-to-date!\n",
            "[nltk_data]    | Downloading package averaged_perceptron_tagger to\n",
            "[nltk_data]    |     /root/nltk_data...\n",
            "[nltk_data]    |   Package averaged_perceptron_tagger is already up-\n",
            "[nltk_data]    |       to-date!\n",
            "[nltk_data]    | Downloading package averaged_perceptron_tagger_ru to\n",
            "[nltk_data]    |     /root/nltk_data...\n",
            "[nltk_data]    |   Package averaged_perceptron_tagger_ru is already\n",
            "[nltk_data]    |       up-to-date!\n",
            "[nltk_data]    | Downloading package perluniprops to\n",
            "[nltk_data]    |     /root/nltk_data...\n",
            "[nltk_data]    |   Package perluniprops is already up-to-date!\n",
            "[nltk_data]    | Downloading package nonbreaking_prefixes to\n",
            "[nltk_data]    |     /root/nltk_data...\n",
            "[nltk_data]    |   Package nonbreaking_prefixes is already up-to-date!\n",
            "[nltk_data]    | Downloading package vader_lexicon to\n",
            "[nltk_data]    |     /root/nltk_data...\n",
            "[nltk_data]    |   Package vader_lexicon is already up-to-date!\n",
            "[nltk_data]    | Downloading package porter_test to /root/nltk_data...\n",
            "[nltk_data]    |   Package porter_test is already up-to-date!\n",
            "[nltk_data]    | Downloading package wmt15_eval to /root/nltk_data...\n",
            "[nltk_data]    |   Package wmt15_eval is already up-to-date!\n",
            "[nltk_data]    | Downloading package mwa_ppdb to /root/nltk_data...\n",
            "[nltk_data]    |   Package mwa_ppdb is already up-to-date!\n",
            "[nltk_data]    | \n",
            "[nltk_data]  Done downloading collection all\n"
          ],
          "name": "stdout"
        },
        {
          "output_type": "execute_result",
          "data": {
            "text/plain": [
              "True"
            ]
          },
          "metadata": {},
          "execution_count": 1
        }
      ]
    },
    {
      "cell_type": "code",
      "metadata": {
        "id": "3Ajz01vm--Vs"
      },
      "source": [
        "from nltk.corpus import stopwords\n",
        "from nltk.tokenize import word_tokenize\n",
        "from nltk import FreqDist"
      ],
      "execution_count": null,
      "outputs": []
    },
    {
      "cell_type": "markdown",
      "metadata": {
        "id": "yMNd-sS2rqhQ"
      },
      "source": [
        "## List of stop words."
      ]
    },
    {
      "cell_type": "code",
      "metadata": {
        "colab": {
          "base_uri": "https://localhost:8080/"
        },
        "id": "54sdIqTEDt-U",
        "outputId": "5c312096-a2bd-457a-e5c2-2fa67f144674"
      },
      "source": [
        "print(set(stopwords.words('english')))"
      ],
      "execution_count": null,
      "outputs": [
        {
          "output_type": "stream",
          "text": [
            "{'on', \"don't\", 'be', 'than', 'because', 'doesn', 'mightn', 'which', \"needn't\", 'where', 'itself', 'how', 'you', 'having', 'do', \"didn't\", 'by', 'during', \"you're\", 'been', \"haven't\", 'those', 'no', 'if', \"mustn't\", \"wasn't\", 'yourselves', 'these', 'the', 'hers', 'ours', 'other', 'he', 'aren', 'haven', 'we', 'into', 've', 'between', 'up', 'again', 'both', 'theirs', 'were', 'then', 'shouldn', 'was', 's', 'yourself', 'but', 'that', 'hasn', 'after', 'she', 'should', 'couldn', 'being', 'as', 'they', 'yours', 'have', 'few', \"you've\", 'now', 'will', 'hadn', 'don', 'o', 'for', \"doesn't\", \"hasn't\", 'ma', 'any', 'each', 'me', \"weren't\", 'a', 'more', 'ain', 'weren', 'had', 'y', 'here', 'won', 'can', 'over', 'i', 'them', \"shouldn't\", 'myself', 'is', 'it', 'down', 'why', \"you'll\", 'their', 'does', 'not', 'above', 'has', 'or', 'who', 'nor', 'are', 'her', 'doing', 'am', \"hadn't\", 'further', 'from', 're', 'and', \"isn't\", \"you'd\", 'under', 'very', 'all', 't', 'too', 'its', 'until', 'before', 'to', 'off', 'so', \"should've\", 'wouldn', \"mightn't\", 'll', 'whom', \"it's\", 'at', 'with', 'same', 'below', 'themselves', 'your', 'own', 'an', 'needn', 'through', 'mustn', 'such', 'in', 'shan', 'wasn', 'this', 'most', 'our', \"won't\", 'what', 'did', 'him', 'ourselves', 'while', 'against', 'only', \"shan't\", 'just', 'of', 'his', \"aren't\", 'd', \"wouldn't\", \"that'll\", 'there', 'didn', 'm', 'about', 'himself', 'out', 'some', 'herself', 'when', 'once', 'my', 'isn', \"couldn't\", \"she's\"}\n"
          ],
          "name": "stdout"
        }
      ]
    },
    {
      "cell_type": "markdown",
      "metadata": {
        "id": "O7SzBU0G-eHH"
      },
      "source": [
        "## Shows how stop words are removed"
      ]
    },
    {
      "cell_type": "code",
      "metadata": {
        "colab": {
          "base_uri": "https://localhost:8080/"
        },
        "id": "eFLsY9e-qzkm",
        "outputId": "355ddce5-661c-4706-f2df-4cf9eaf05b0f"
      },
      "source": [
        "example_sent = \"This is a sample sentence,showing off the stop words filtration.\"\n",
        "\n",
        "stop_words = set(stopwords.words('english'))\n",
        "word_tokens = word_tokenize(example_sent)\n",
        "\n",
        "filtered_sentence = [w for w in word_tokens if not w.lower() in stop_words]\n",
        "filtered_sentence = []\n",
        "\n",
        "for w in word_tokens:\n",
        "\tif w not in stop_words:\n",
        "\t\tfiltered_sentence.append(w)\n",
        "\n",
        "print('Tokenized sentence:\\n\\t',word_tokens)\n",
        "print('Removed Stop words:\\n\\t',filtered_sentence)"
      ],
      "execution_count": null,
      "outputs": [
        {
          "output_type": "stream",
          "text": [
            "Tokenized sentence:\n",
            "\t ['This', 'is', 'a', 'sample', 'sentence', ',', 'showing', 'off', 'the', 'stop', 'words', 'filtration', '.']\n",
            "Removed Stop words:\n",
            "\t ['This', 'sample', 'sentence', ',', 'showing', 'stop', 'words', 'filtration', '.']\n"
          ],
          "name": "stdout"
        }
      ]
    },
    {
      "cell_type": "markdown",
      "metadata": {
        "id": "86V7n565_EkX"
      },
      "source": [
        "## Frequency of words after tokenization"
      ]
    },
    {
      "cell_type": "code",
      "metadata": {
        "colab": {
          "base_uri": "https://localhost:8080/"
        },
        "id": "M_SVUJzixhFY",
        "outputId": "124cb7fa-4357-476d-f4aa-4540239f8020"
      },
      "source": [
        "text = \"Learn and practice and learn to practice\"\n",
        "words = text.split()\n",
        "fdist1 = FreqDist(words)\n",
        "print(fdist1)\n",
        "print()\n",
        "fdist1.most_common()"
      ],
      "execution_count": null,
      "outputs": [
        {
          "output_type": "stream",
          "text": [
            "<FreqDist with 5 samples and 7 outcomes>\n",
            "\n"
          ],
          "name": "stdout"
        },
        {
          "output_type": "execute_result",
          "data": {
            "text/plain": [
              "[('and', 2), ('practice', 2), ('Learn', 1), ('learn', 1), ('to', 1)]"
            ]
          },
          "metadata": {},
          "execution_count": 4
        }
      ]
    },
    {
      "cell_type": "markdown",
      "metadata": {
        "id": "5x8ivAE1_e_O"
      },
      "source": [
        "## Parts of Speech for tokens"
      ]
    },
    {
      "cell_type": "code",
      "metadata": {
        "id": "icP-2CHQ7ViY"
      },
      "source": [
        "def parts_of_speech(txt):\n",
        "  import spacy\n",
        "  sp = spacy.load('en_core_web_sm')\n",
        "  sentence = sp(txt)\n",
        "  print(\"Parts of speech with tokens:\")\n",
        "  print(\"==========================\")\n",
        "  for word in sentence:\n",
        "    print(\"\\t\",word.pos_,'\\t-', word.text)"
      ],
      "execution_count": null,
      "outputs": []
    },
    {
      "cell_type": "code",
      "metadata": {
        "colab": {
          "base_uri": "https://localhost:8080/"
        },
        "id": "esQFaiFf_t8g",
        "outputId": "1fa75a71-3cdf-4405-ab51-47d05883921d"
      },
      "source": [
        "parts_of_speech(text)"
      ],
      "execution_count": null,
      "outputs": [
        {
          "output_type": "stream",
          "text": [
            "Parts of speech with tokens:\n",
            "==========================\n",
            "\t VERB \t- Learn\n",
            "\t CCONJ \t- and\n",
            "\t VERB \t- practice\n",
            "\t CCONJ \t- and\n",
            "\t VERB \t- learn\n",
            "\t PART \t- to\n",
            "\t VERB \t- practice\n"
          ],
          "name": "stdout"
        }
      ]
    },
    {
      "cell_type": "markdown",
      "metadata": {
        "id": "YJP3YTDAAASf"
      },
      "source": [
        "## Main Code"
      ]
    },
    {
      "cell_type": "code",
      "metadata": {
        "id": "24sykn493fNy"
      },
      "source": [
        "text = '''Celebrate Independence Day every year on 15 August as a national holiday in India to commemorate the independence of the nation from the United Kingdom on 15 August 1947. Day on which the provisions of the Indian Independence Act of 1947 came into effect, which transferred legislative sovereignty to the Indian Constituent Assembly. Independence corresponded with India's partition, wherein British India had  been divided into the Dominions of India and Pakistan along religious lines.'''"
      ],
      "execution_count": null,
      "outputs": []
    },
    {
      "cell_type": "code",
      "metadata": {
        "id": "w1Psk4iW1-Y5"
      },
      "source": [
        "def word_count(text):\n",
        "  from nltk import FreqDist\n",
        "  from nltk.corpus import stopwords\n",
        "  from nltk.tokenize import word_tokenize\n",
        "\n",
        "  stop_words = set(stopwords.words('english'))\n",
        "  word_tokens = word_tokenize(text)\n",
        "\n",
        "  filtered_sentence = [w for w in word_tokens if not w.lower() in stop_words]\n",
        "\n",
        "  for w in word_tokens:\n",
        "\t  if w not in stop_words:\n",
        "\t\t  filtered_sentence.append(w)\n",
        "    \n",
        "  fdist1 = FreqDist(filtered_sentence)\n",
        "  print(fdist1)\n",
        "  list1 = fdist1.most_common()\n",
        "  print(\"\\n\\n\\t Count\",'- Tokens')\n",
        "  for i in list1:\n",
        "     print(\"\\t\",i[1],'-', i[0])"
      ],
      "execution_count": null,
      "outputs": []
    },
    {
      "cell_type": "code",
      "metadata": {
        "id": "JQZAILzgAAg6"
      },
      "source": [
        "def token():\n",
        "  print('PROGRAM 2')\n",
        "  print('=========')\n",
        "  option = 'yes'\n",
        "  while(option=='yes'):\n",
        "\n",
        "    print('\\t1. Count \\n\\t2. Parts of Speech')\n",
        "    op = input('Select your option:')\n",
        "    print('\\nEnter the sentence to be tokenized:')\n",
        "    text = input('\\t')\n",
        "    if op == '1':\n",
        "      word_count(text)\n",
        "    elif op == '2':\n",
        "      parts_of_speech(text)\n",
        "    else:\n",
        "      print('Invalid input')\n",
        "\n",
        "    option=input('\\n Do you want to continue[yes/no]:\\t')\n"
      ],
      "execution_count": null,
      "outputs": []
    },
    {
      "cell_type": "code",
      "metadata": {
        "colab": {
          "base_uri": "https://localhost:8080/"
        },
        "id": "wm9SdiWBB55Z",
        "outputId": "9cacbeca-f0e0-4129-cfe8-b58e22d06f47"
      },
      "source": [
        "token()"
      ],
      "execution_count": null,
      "outputs": [
        {
          "output_type": "stream",
          "text": [
            "PROGRAM 2\n",
            "=========\n",
            "\t1. Count \n",
            "\t2. Parts of Speech\n",
            "Select your option:1\n",
            "\n",
            "Enter the sentence to be tokenized:\n",
            "\tCelebrate Independence Day every year on 15 August as a national holiday in India to commemorate the independence of the nation from the United Kingdom on 15 August 1947. Day on which the provisions of the Indian Independence Act of 1947 came into effect, which transferred legislative sovereignty to the Indian Constituent Assembly. Independence corresponded with India's partition, wherein British India had  been divided into the Dominions of India and Pakistan along religious lines.\n",
            "<FreqDist with 39 samples and 104 outcomes>\n",
            "\n",
            "\n",
            "\t Count - Tokens\n",
            "\t 8 - India\n",
            "\t 6 - Independence\n",
            "\t 6 - .\n",
            "\t 4 - Day\n",
            "\t 4 - 15\n",
            "\t 4 - August\n",
            "\t 4 - 1947\n",
            "\t 4 - Indian\n",
            "\t 4 - ,\n",
            "\t 2 - Celebrate\n",
            "\t 2 - every\n",
            "\t 2 - year\n",
            "\t 2 - national\n",
            "\t 2 - holiday\n",
            "\t 2 - commemorate\n",
            "\t 2 - independence\n",
            "\t 2 - nation\n",
            "\t 2 - United\n",
            "\t 2 - Kingdom\n",
            "\t 2 - provisions\n",
            "\t 2 - Act\n",
            "\t 2 - came\n",
            "\t 2 - effect\n",
            "\t 2 - transferred\n",
            "\t 2 - legislative\n",
            "\t 2 - sovereignty\n",
            "\t 2 - Constituent\n",
            "\t 2 - Assembly\n",
            "\t 2 - corresponded\n",
            "\t 2 - 's\n",
            "\t 2 - partition\n",
            "\t 2 - wherein\n",
            "\t 2 - British\n",
            "\t 2 - divided\n",
            "\t 2 - Dominions\n",
            "\t 2 - Pakistan\n",
            "\t 2 - along\n",
            "\t 2 - religious\n",
            "\t 2 - lines\n",
            "\n",
            " Do you want to continue[yes/no]:\tyes\n",
            "\t1. Count \n",
            "\t2. Parts of Speech\n",
            "Select your option:2\n",
            "\n",
            "Enter the sentence to be tokenized:\n",
            "\tCelebrate Independence Day every year on 15 August as a national holiday in India to commemorate the independence of the nation from the United Kingdom on 15 August 1947. Day on which the provisions of the Indian Independence Act of 1947 came into effect, which transferred legislative sovereignty to the Indian Constituent Assembly. Independence corresponded with India's partition, wherein British India had  been divided into the Dominions of India and Pakistan along religious lines.\n",
            "Parts of speech with tokens:\n",
            "==========================\n",
            "\t VERB \t- Celebrate\n",
            "\t PROPN \t- Independence\n",
            "\t PROPN \t- Day\n",
            "\t DET \t- every\n",
            "\t NOUN \t- year\n",
            "\t ADP \t- on\n",
            "\t NUM \t- 15\n",
            "\t PROPN \t- August\n",
            "\t SCONJ \t- as\n",
            "\t DET \t- a\n",
            "\t ADJ \t- national\n",
            "\t NOUN \t- holiday\n",
            "\t ADP \t- in\n",
            "\t PROPN \t- India\n",
            "\t PART \t- to\n",
            "\t VERB \t- commemorate\n",
            "\t DET \t- the\n",
            "\t NOUN \t- independence\n",
            "\t ADP \t- of\n",
            "\t DET \t- the\n",
            "\t NOUN \t- nation\n",
            "\t ADP \t- from\n",
            "\t DET \t- the\n",
            "\t PROPN \t- United\n",
            "\t PROPN \t- Kingdom\n",
            "\t ADP \t- on\n",
            "\t NUM \t- 15\n",
            "\t PROPN \t- August\n",
            "\t NUM \t- 1947\n",
            "\t PUNCT \t- .\n",
            "\t NOUN \t- Day\n",
            "\t ADP \t- on\n",
            "\t DET \t- which\n",
            "\t DET \t- the\n",
            "\t NOUN \t- provisions\n",
            "\t ADP \t- of\n",
            "\t DET \t- the\n",
            "\t PROPN \t- Indian\n",
            "\t PROPN \t- Independence\n",
            "\t PROPN \t- Act\n",
            "\t ADP \t- of\n",
            "\t NUM \t- 1947\n",
            "\t VERB \t- came\n",
            "\t ADP \t- into\n",
            "\t NOUN \t- effect\n",
            "\t PUNCT \t- ,\n",
            "\t DET \t- which\n",
            "\t VERB \t- transferred\n",
            "\t ADJ \t- legislative\n",
            "\t NOUN \t- sovereignty\n",
            "\t ADP \t- to\n",
            "\t DET \t- the\n",
            "\t PROPN \t- Indian\n",
            "\t PROPN \t- Constituent\n",
            "\t PROPN \t- Assembly\n",
            "\t PUNCT \t- .\n",
            "\t NOUN \t- Independence\n",
            "\t VERB \t- corresponded\n",
            "\t ADP \t- with\n",
            "\t PROPN \t- India\n",
            "\t PART \t- 's\n",
            "\t NOUN \t- partition\n",
            "\t PUNCT \t- ,\n",
            "\t ADV \t- wherein\n",
            "\t PROPN \t- British\n",
            "\t PROPN \t- India\n",
            "\t AUX \t- had\n",
            "\t SPACE \t-  \n",
            "\t AUX \t- been\n",
            "\t VERB \t- divided\n",
            "\t ADP \t- into\n",
            "\t DET \t- the\n",
            "\t NOUN \t- Dominions\n",
            "\t ADP \t- of\n",
            "\t PROPN \t- India\n",
            "\t CCONJ \t- and\n",
            "\t PROPN \t- Pakistan\n",
            "\t ADP \t- along\n",
            "\t ADJ \t- religious\n",
            "\t NOUN \t- lines\n",
            "\t PUNCT \t- .\n",
            "\n",
            " Do you want to continue[yes/no]:\tno\n"
          ],
          "name": "stdout"
        }
      ]
    }
  ]
}