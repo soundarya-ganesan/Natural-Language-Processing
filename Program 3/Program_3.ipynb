{
  "nbformat": 4,
  "nbformat_minor": 0,
  "metadata": {
    "colab": {
      "name": "2048057_Program_3.ipynb",
      "provenance": [],
      "collapsed_sections": []
    },
    "kernelspec": {
      "name": "python3",
      "display_name": "Python 3"
    },
    "language_info": {
      "name": "python"
    }
  },
  "cells": [
    {
      "cell_type": "markdown",
      "metadata": {
        "id": "VVBJAllWir1m"
      },
      "source": [
        "---\n",
        "# <center> **NLP PROGRAM-3** </center>\n",
        "## <center> A program to tokenize Non-English Languages </center>\n",
        "#### <center> Soundarya G_ 2048057</center>\n",
        "---"
      ]
    },
    {
      "cell_type": "markdown",
      "metadata": {
        "id": "3N6a8N6s2Oo3"
      },
      "source": [
        "## Different Indian Language Texts used for the Program"
      ]
    },
    {
      "cell_type": "markdown",
      "metadata": {
        "id": "J3eorYXcEMFB"
      },
      "source": [
        "\n",
        "> *   Tamil_text = '''வணக்கம் எப்படி இருக்கிறாய்'''\n",
        "*   Hindi_text = '''नमस्ते कैसी हो तुम'''\n",
        "*   Punjabi_text = '''ਹੈਲੋ ਤੁਸੀ ਕਿਵੇਂ ਹੋ'''\n",
        "*   Telugu_text = '''సంస్కృతానికి'''\n",
        "*   Gujarati_text = '''હેલો કેમ છો?'''\n",
        "*   Kannada_text = '''ನಮಸ್ಕಾರ ಹೇಗಿದ್ದೀರಾ'''\n",
        "*   Malayalam_text = '''ഹലോ, നിങ്ങൾക്ക് സുഖമാണോ'''\n",
        "*   Nepali_text = '''नमस्ते तपाइँ कसरी हुनुहुन्छ?'''\n",
        "*   Odia_text = '''ହେ ତମେ କେମିତି ଅଛ'''\n",
        "*   Marathi_text = '''नमस्कार तुम्ही कसे आहात'''\n",
        "*   Bengali_text = '''হ্যালো, আপনি কেমন আছেন'''\n",
        "*   Urdu_text = '''ہیلو آپ کیسے ہیں'''"
      ]
    },
    {
      "cell_type": "markdown",
      "metadata": {
        "id": "lZkv5aVofoLe"
      },
      "source": [
        "## Import necessary libraries"
      ]
    },
    {
      "cell_type": "code",
      "metadata": {
        "id": "rVlZ6-YlhpFL"
      },
      "source": [
        "# pip install inltk\n",
        "# pip install langdetect\n",
        "# pip install googletrans"
      ],
      "execution_count": null,
      "outputs": []
    },
    {
      "cell_type": "code",
      "metadata": {
        "id": "QXX20E88sN-Y"
      },
      "source": [
        "from inltk.inltk import setup\n",
        "from inltk.inltk import tokenize\n",
        "from langdetect import detect\n",
        "import pandas as pd"
      ],
      "execution_count": null,
      "outputs": []
    },
    {
      "cell_type": "markdown",
      "metadata": {
        "id": "hdNm2Qfog059"
      },
      "source": [
        "# Different Indian Languages for tokenization"
      ]
    },
    {
      "cell_type": "code",
      "metadata": {
        "colab": {
          "base_uri": "https://localhost:8080/",
          "height": 411
        },
        "id": "PkrtfCYfw-UZ",
        "outputId": "f1d8a079-257b-4acb-8e71-e45f313cf8b5"
      },
      "source": [
        "indian_languages={'hi': 'Hindi','pa': 'Punjabi','te': 'Telugu','gu': 'Gujarati',\n",
        "                  'kn': 'Kannada','ml': 'Malayalam','ne': 'Nepali','or': 'Odia',\n",
        "                  'mr': 'Marathi','bn': 'Bengali','ta': 'Tamil','ur': 'Urdu'} \n",
        "\n",
        "df = pd.DataFrame(list(indian_languages.items()),columns = ['Code','Language'])\n",
        "df"
      ],
      "execution_count": null,
      "outputs": [
        {
          "output_type": "execute_result",
          "data": {
            "text/html": [
              "<div>\n",
              "<style scoped>\n",
              "    .dataframe tbody tr th:only-of-type {\n",
              "        vertical-align: middle;\n",
              "    }\n",
              "\n",
              "    .dataframe tbody tr th {\n",
              "        vertical-align: top;\n",
              "    }\n",
              "\n",
              "    .dataframe thead th {\n",
              "        text-align: right;\n",
              "    }\n",
              "</style>\n",
              "<table border=\"1\" class=\"dataframe\">\n",
              "  <thead>\n",
              "    <tr style=\"text-align: right;\">\n",
              "      <th></th>\n",
              "      <th>Code</th>\n",
              "      <th>Language</th>\n",
              "    </tr>\n",
              "  </thead>\n",
              "  <tbody>\n",
              "    <tr>\n",
              "      <th>0</th>\n",
              "      <td>hi</td>\n",
              "      <td>Hindi</td>\n",
              "    </tr>\n",
              "    <tr>\n",
              "      <th>1</th>\n",
              "      <td>pa</td>\n",
              "      <td>Punjabi</td>\n",
              "    </tr>\n",
              "    <tr>\n",
              "      <th>2</th>\n",
              "      <td>te</td>\n",
              "      <td>Telugu</td>\n",
              "    </tr>\n",
              "    <tr>\n",
              "      <th>3</th>\n",
              "      <td>gu</td>\n",
              "      <td>Gujarati</td>\n",
              "    </tr>\n",
              "    <tr>\n",
              "      <th>4</th>\n",
              "      <td>kn</td>\n",
              "      <td>Kannada</td>\n",
              "    </tr>\n",
              "    <tr>\n",
              "      <th>5</th>\n",
              "      <td>ml</td>\n",
              "      <td>Malayalam</td>\n",
              "    </tr>\n",
              "    <tr>\n",
              "      <th>6</th>\n",
              "      <td>ne</td>\n",
              "      <td>Nepali</td>\n",
              "    </tr>\n",
              "    <tr>\n",
              "      <th>7</th>\n",
              "      <td>or</td>\n",
              "      <td>Odia</td>\n",
              "    </tr>\n",
              "    <tr>\n",
              "      <th>8</th>\n",
              "      <td>mr</td>\n",
              "      <td>Marathi</td>\n",
              "    </tr>\n",
              "    <tr>\n",
              "      <th>9</th>\n",
              "      <td>bn</td>\n",
              "      <td>Bengali</td>\n",
              "    </tr>\n",
              "    <tr>\n",
              "      <th>10</th>\n",
              "      <td>ta</td>\n",
              "      <td>Tamil</td>\n",
              "    </tr>\n",
              "    <tr>\n",
              "      <th>11</th>\n",
              "      <td>ur</td>\n",
              "      <td>Urdu</td>\n",
              "    </tr>\n",
              "  </tbody>\n",
              "</table>\n",
              "</div>"
            ],
            "text/plain": [
              "   Code   Language\n",
              "0    hi      Hindi\n",
              "1    pa    Punjabi\n",
              "2    te     Telugu\n",
              "3    gu   Gujarati\n",
              "4    kn    Kannada\n",
              "5    ml  Malayalam\n",
              "6    ne     Nepali\n",
              "7    or       Odia\n",
              "8    mr    Marathi\n",
              "9    bn    Bengali\n",
              "10   ta      Tamil\n",
              "11   ur       Urdu"
            ]
          },
          "metadata": {},
          "execution_count": 3
        }
      ]
    },
    {
      "cell_type": "markdown",
      "metadata": {
        "id": "RDLKBbQWhKpu"
      },
      "source": [
        "# User Text Function\n",
        "\n",
        "This function takes input from user for the tokenization."
      ]
    },
    {
      "cell_type": "code",
      "metadata": {
        "id": "dPX_b3cezZra"
      },
      "source": [
        "def user_text_func():\n",
        "  text = input('\\t')\n",
        "  return text"
      ],
      "execution_count": null,
      "outputs": []
    },
    {
      "cell_type": "code",
      "metadata": {
        "colab": {
          "base_uri": "https://localhost:8080/"
        },
        "id": "7K4wL73a0-3q",
        "outputId": "f4bdc693-eb36-4786-a477-3d4a875a2053"
      },
      "source": [
        "user_text = user_text_func()"
      ],
      "execution_count": null,
      "outputs": [
        {
          "output_type": "stream",
          "text": [
            "\tनमस्ते कैसी हो तुम\n"
          ],
          "name": "stdout"
        }
      ]
    },
    {
      "cell_type": "markdown",
      "metadata": {
        "id": "Bd4RVLO3hC1R"
      },
      "source": [
        "# Language Detector\n",
        "\n",
        "Detects which language is given as text."
      ]
    },
    {
      "cell_type": "code",
      "metadata": {
        "colab": {
          "base_uri": "https://localhost:8080/"
        },
        "id": "WIPM5Ven1exy",
        "outputId": "5ba97c83-bc6d-4609-fa93-27f26876ba01"
      },
      "source": [
        "print(detect(user_text), '-',indian_languages[detect(user_text)])"
      ],
      "execution_count": null,
      "outputs": [
        {
          "output_type": "stream",
          "text": [
            "hi - Hindi\n"
          ],
          "name": "stdout"
        }
      ]
    },
    {
      "cell_type": "markdown",
      "metadata": {
        "id": "45-DGK15h7Rc"
      },
      "source": [
        "# Setup for the user text's language"
      ]
    },
    {
      "cell_type": "code",
      "metadata": {
        "id": "MQA7FIYVswYY"
      },
      "source": [
        "def setup_for_lang(text):\n",
        "  try:\n",
        "    setup(detect(text))\n",
        "  except RuntimeError:\n",
        "    #print('language setup is successful')\n",
        "    return detect(text)\n",
        "  else:\n",
        "    print('error')"
      ],
      "execution_count": null,
      "outputs": []
    },
    {
      "cell_type": "code",
      "metadata": {
        "colab": {
          "base_uri": "https://localhost:8080/",
          "height": 35
        },
        "id": "AtGmLe-SFQwA",
        "outputId": "4e5216b7-e9cd-4d14-ad4c-76ffae649b46"
      },
      "source": [
        "Lang = setup_for_lang(user_text)\n",
        "Lang"
      ],
      "execution_count": null,
      "outputs": [
        {
          "output_type": "execute_result",
          "data": {
            "application/vnd.google.colaboratory.intrinsic+json": {
              "type": "string"
            },
            "text/plain": [
              "'hi'"
            ]
          },
          "metadata": {},
          "execution_count": 11
        },
        {
          "output_type": "stream",
          "text": [
            "Done!\n"
          ],
          "name": "stdout"
        }
      ]
    },
    {
      "cell_type": "markdown",
      "metadata": {
        "id": "er3k6y3bjOdn"
      },
      "source": [
        "# Language Translator"
      ]
    },
    {
      "cell_type": "code",
      "metadata": {
        "id": "eeJuWPdfIiqT"
      },
      "source": [
        "# User input translated to English\n",
        "from googletrans import Translator\n",
        "translator = Translator()\n",
        "translator.translate('வணக்கம்',src='ta',dest='en')"
      ],
      "execution_count": null,
      "outputs": []
    },
    {
      "cell_type": "markdown",
      "metadata": {
        "id": "elFEeBqpiO6T"
      },
      "source": [
        "# Tokenization "
      ]
    },
    {
      "cell_type": "code",
      "metadata": {
        "colab": {
          "base_uri": "https://localhost:8080/"
        },
        "id": "2gCmhmaVsZwG",
        "outputId": "539b8c14-7c90-4725-c50a-3cee0d7c5843"
      },
      "source": [
        "# tokenize(input text, language code)\n",
        "tokenize(user_text,Lang)"
      ],
      "execution_count": null,
      "outputs": [
        {
          "output_type": "execute_result",
          "data": {
            "text/plain": [
              "['▁नमस्ते', '▁कैसी', '▁हो', '▁तुम']"
            ]
          },
          "metadata": {},
          "execution_count": 12
        }
      ]
    },
    {
      "cell_type": "code",
      "metadata": {
        "colab": {
          "base_uri": "https://localhost:8080/"
        },
        "id": "BJVyIBPvIDAI",
        "outputId": "0a393eb0-657e-4013-9470-f415ea7be8c8"
      },
      "source": [
        "Lang_token_list = tokenize(user_text,Lang)\n",
        "check = '▁'\n",
        "token_list = [idx for idx in Lang_token_list if idx[0]==check]\n",
        "token_list"
      ],
      "execution_count": null,
      "outputs": [
        {
          "output_type": "execute_result",
          "data": {
            "text/plain": [
              "['▁नमस्ते', '▁कैसी', '▁हो', '▁तुम']"
            ]
          },
          "metadata": {},
          "execution_count": 13
        }
      ]
    },
    {
      "cell_type": "code",
      "metadata": {
        "colab": {
          "base_uri": "https://localhost:8080/"
        },
        "id": "MSiiaMnDNLGJ",
        "outputId": "ce16d8d0-ee2a-4954-d065-54edcb81e258"
      },
      "source": [
        "new_token_list = [s.replace('▁','') for s in token_list]\n",
        "new_token_list"
      ],
      "execution_count": null,
      "outputs": [
        {
          "output_type": "execute_result",
          "data": {
            "text/plain": [
              "['नमस्ते', 'कैसी', 'हो', 'तुम']"
            ]
          },
          "metadata": {},
          "execution_count": 14
        }
      ]
    },
    {
      "cell_type": "markdown",
      "metadata": {
        "id": "uU3FP7mqi0Pe"
      },
      "source": [
        "# Main Function"
      ]
    },
    {
      "cell_type": "code",
      "metadata": {
        "id": "P-tTvyXxdEfQ"
      },
      "source": [
        "def Non_English_Language_Translator():\n",
        "  indian_languages={'hi': 'Hindi','pa': 'Punjabi','te': 'Telugu','gu': 'Gujarati',\n",
        "                  'kn': 'Kannada','ml': 'Malayalam','ne': 'Nepali','or': 'Odia',\n",
        "                  'mr': 'Marathi','bn': 'Bengali','ta': 'Tamil','ur': 'Urdu'} \n",
        "\n",
        "  df = pd.DataFrame(list(indian_languages.items()),columns = ['Language','Code'])\n",
        "  print(df)\n",
        "  option = 'yes'\n",
        "  while(option == 'yes'):\n",
        "    print('\\nType your text to be tokenized')\n",
        "    user_text = user_text_func()\n",
        "    Lang = setup_for_lang(user_text)\n",
        "    Lang_token_list = tokenize(user_text,Lang)\n",
        "    check = '▁'\n",
        "    token_list = [idx for idx in Lang_token_list if idx[0]==check]\n",
        "    new_token_list = [s.replace('▁','') for s in token_list]\n",
        "    print('\\n\\tUser Input \\t\\t :', user_text)\n",
        "    print('\\tLanguage Identified \\t :', indian_languages[Lang])\n",
        "    print('\\tLanguage Code \\t\\t :', Lang)\n",
        "    print('\\tTokens \\t\\t\\t :', new_token_list)\n",
        "    print('\\tNo. of Tokens \\t\\t :', len(new_token_list), 'Tokens')\n",
        "    print('\\tEnglish Translation \\t : On progress!!!')\n",
        "\n",
        "    print('\\n\\t\\tDo you want to continue the program')\n",
        "    option = input('\\t\\t\\t[yes/no]:')"
      ],
      "execution_count": null,
      "outputs": []
    },
    {
      "cell_type": "code",
      "metadata": {
        "colab": {
          "base_uri": "https://localhost:8080/"
        },
        "id": "cNqy_5VadofR",
        "outputId": "b92301b2-ef10-4ebd-807b-97e3e0fbf196"
      },
      "source": [
        "Non_English_Language_Translator()"
      ],
      "execution_count": null,
      "outputs": [
        {
          "output_type": "stream",
          "text": [
            "   Language       Code\n",
            "0        hi      Hindi\n",
            "1        pa    Punjabi\n",
            "2        te     Telugu\n",
            "3        gu   Gujarati\n",
            "4        kn    Kannada\n",
            "5        ml  Malayalam\n",
            "6        ne     Nepali\n",
            "7        or       Odia\n",
            "8        mr    Marathi\n",
            "9        bn    Bengali\n",
            "10       ta      Tamil\n",
            "11       ur       Urdu\n",
            "\n",
            "Type your text to be tokenized\n",
            "\tவணக்கம் எப்படி இருக்கிறாய்\n",
            "\n",
            "\tUser Input \t\t : வணக்கம் எப்படி இருக்கிறாய்\n",
            "\tLanguage Identified \t : Tamil\n",
            "\tLanguage Code \t\t : ta\n",
            "\tTokens \t\t\t : ['வணக்க', 'எப்படி', 'இருக்கிற']\n",
            "\tNo. of Tokens \t\t : 3 Tokens\n",
            "\tEnglish Translation \t : On progress!!!\n",
            "\n",
            "\t\tDo you want to continue the program\n",
            "\t\t\t[yes/no]:yes\n",
            "\n",
            "Type your text to be tokenized\n",
            "\tनमस्ते कैसी हो तुम\n",
            "\n",
            "\tUser Input \t\t : नमस्ते कैसी हो तुम\n",
            "\tLanguage Identified \t : Hindi\n",
            "\tLanguage Code \t\t : hi\n",
            "\tTokens \t\t\t : ['नमस्ते', 'कैसी', 'हो', 'तुम']\n",
            "\tNo. of Tokens \t\t : 4 Tokens\n",
            "\tEnglish Translation \t : On progress!!!\n",
            "\n",
            "\t\tDo you want to continue the program\n",
            "\t\t\t[yes/no]:yes\n",
            "\n",
            "Type your text to be tokenized\n",
            "\tನಮಸ್ಕಾರ ಹೇಗಿದ್ದೀರಾ\n",
            "\n",
            "\tUser Input \t\t : ನಮಸ್ಕಾರ ಹೇಗಿದ್ದೀರಾ\n",
            "\tLanguage Identified \t : Kannada\n",
            "\tLanguage Code \t\t : kn\n",
            "\tTokens \t\t\t : ['ನಮಸ್ಕಾರ', 'ಹೇಗ']\n",
            "\tNo. of Tokens \t\t : 2 Tokens\n",
            "\tEnglish Translation \t : On progress!!!\n",
            "\n",
            "\t\tDo you want to continue the program\n",
            "\t\t\t[yes/no]:no\n"
          ],
          "name": "stdout"
        }
      ]
    }
  ]
}