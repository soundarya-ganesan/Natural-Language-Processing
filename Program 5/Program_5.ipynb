{
  "nbformat": 4,
  "nbformat_minor": 0,
  "metadata": {
    "colab": {
      "name": "2048057_Program_5.ipynb",
      "provenance": [],
      "collapsed_sections": []
    },
    "kernelspec": {
      "name": "python3",
      "display_name": "Python 3"
    },
    "language_info": {
      "name": "python"
    }
  },
  "cells": [
    {
      "cell_type": "markdown",
      "metadata": {
        "id": "1oD5AJ2U6f_q"
      },
      "source": [
        "---\n",
        "# <center> **NLP PROGRAM-5** </center>\n",
        "## <center> A program to get antonyms from WordNet </center>\n",
        "#### <center> Soundarya G_ 2048057</center>\n",
        "---"
      ]
    },
    {
      "cell_type": "markdown",
      "metadata": {
        "id": "69Zd7BgG8qlK"
      },
      "source": [
        "## Downloading and Importing Wordnet"
      ]
    },
    {
      "cell_type": "code",
      "metadata": {
        "colab": {
          "base_uri": "https://localhost:8080/"
        },
        "id": "5oSc-C-r6TFt",
        "outputId": "d2be7881-f567-4e52-aab4-c7769bf7ab36"
      },
      "source": [
        "# Downloading wordnet \n",
        "import nltk \n",
        "nltk.download('wordnet')\n",
        "nltk.download('wordnet_ic')\n",
        "nltk.download('genesis')"
      ],
      "execution_count": null,
      "outputs": [
        {
          "output_type": "stream",
          "name": "stdout",
          "text": [
            "[nltk_data] Downloading package wordnet to /root/nltk_data...\n",
            "[nltk_data]   Unzipping corpora/wordnet.zip.\n",
            "[nltk_data] Downloading package wordnet_ic to /root/nltk_data...\n",
            "[nltk_data]   Unzipping corpora/wordnet_ic.zip.\n",
            "[nltk_data] Downloading package genesis to /root/nltk_data...\n",
            "[nltk_data]   Unzipping corpora/genesis.zip.\n"
          ]
        },
        {
          "output_type": "execute_result",
          "data": {
            "text/plain": [
              "True"
            ]
          },
          "metadata": {},
          "execution_count": 1
        }
      ]
    },
    {
      "cell_type": "code",
      "metadata": {
        "id": "xXYFOyX-7tnm"
      },
      "source": [
        "# Importing required libraries \n",
        "import re\n",
        "import pandas as pd\n",
        "from nltk.corpus import wordnet\n",
        "from nltk.corpus import wordnet_ic\n",
        "from nltk.corpus import genesis"
      ],
      "execution_count": null,
      "outputs": []
    },
    {
      "cell_type": "markdown",
      "metadata": {
        "id": "OaoNSLjChOhB"
      },
      "source": [
        "## Antonyms"
      ]
    },
    {
      "cell_type": "markdown",
      "metadata": {
        "id": "08SldFGe6PQU"
      },
      "source": [
        "> To find a word's synonym and antonym."
      ]
    },
    {
      "cell_type": "code",
      "metadata": {
        "id": "feMUVi8EhNeD"
      },
      "source": [
        "def word_details():\n",
        "  antonyms = [] \n",
        "  synonyms = [] \n",
        "  word=input(\"Please enter a word : \")\n",
        "  for syn_set in wordnet.synsets(word):  \n",
        "    for l in syn_set.lemmas(): \n",
        "      synonyms.append(l.name()) \n",
        "      if l.antonyms(): \n",
        "        antonyms.append(l.antonyms()[0].name()) \n",
        "  print(\"\\nSet of synonyms of the word:\", set(synonyms))\n",
        "  print(\"\\nSet of antonyms of the word:\", set(antonyms))"
      ],
      "execution_count": null,
      "outputs": []
    },
    {
      "cell_type": "code",
      "metadata": {
        "colab": {
          "base_uri": "https://localhost:8080/"
        },
        "id": "NyUtdHz97v4K",
        "outputId": "9c034a0a-1fad-48bf-b30c-17f7e1786346"
      },
      "source": [
        "word_details()"
      ],
      "execution_count": null,
      "outputs": [
        {
          "output_type": "stream",
          "name": "stdout",
          "text": [
            "Please enter a word : light\n",
            "\n",
            "Set of synonyms of the word: {'short', 'spark', 'sluttish', 'Light', 'visible_light', 'perch', 'luminosity', 'weak', 'tripping', 'lite', 'igniter', 'brightness', 'fire_up', 'unaccented', 'low-cal', 'wakeful', 'lighter', 'lightness', 'scant', 'illuminate', 'sparkle', 'Light_Within', 'alight', 'illume', 'light-colored', 'lightheaded', 'fall', 'easy', 'swooning', 'loose', 'clean', 'lighting', 'Christ_Within', 'idle', 'get_down', 'luminousness', 'light-headed', 'calorie-free', 'abstemious', 'visible_radiation', 'illumine', 'get_off', 'light_source', 'Inner_Light', 'lightsome', 'wanton', 'faint', 'promiscuous', 'twinkle', 'luminance', 'lightly', 'brightness_level', 'light', 'ignitor', 'unclouded', 'dismount', 'light_up', 'clear', 'ignite', 'unhorse', 'illumination'}\n",
            "\n",
            "Set of antonyms of the word: {'heavy', 'dark', 'extinguish'}\n"
          ]
        }
      ]
    },
    {
      "cell_type": "code",
      "metadata": {
        "colab": {
          "base_uri": "https://localhost:8080/"
        },
        "id": "GZHWItMK7205",
        "outputId": "5f4b893e-ee4b-47cb-a9fd-7d24b8be4a66"
      },
      "source": [
        "word_details()"
      ],
      "execution_count": null,
      "outputs": [
        {
          "output_type": "stream",
          "name": "stdout",
          "text": [
            "Please enter a word : jump\n",
            "\n",
            "Set of synonyms of the word: {'spring', 'skip', 'parachute', 'parachuting', 'climb_up', 'derail', 'jumping', 'stick_out', 'leap', 'pass_over', 'start', 'startle', 'jump_out', 'jump_off', 'jumpstart', 'rise', 'skip_over', 'leap_out', 'jump-start', 'bound', 'alternate', 'chute', 'jump', 'stand_out', 'saltation'}\n",
            "\n",
            "Set of antonyms of the word: set()\n"
          ]
        }
      ]
    },
    {
      "cell_type": "markdown",
      "metadata": {
        "id": "F35QmQY4vA_E"
      },
      "source": [
        "We can see that not every word we give, we get a antonym. It is because only limited words are available in the wordnet"
      ]
    },
    {
      "cell_type": "markdown",
      "metadata": {
        "id": "D0BKl1UOHLNj"
      },
      "source": [
        "# Main Code"
      ]
    },
    {
      "cell_type": "markdown",
      "metadata": {
        "id": "69hVDlJoh9HO"
      },
      "source": [
        "> To find a word's synonym, part of speech, definition and antonym.The words returned in range Minimum 10 Words-Maximum N Words.\n"
      ]
    },
    {
      "cell_type": "code",
      "metadata": {
        "id": "AXyCqslfZZqn"
      },
      "source": [
        "def About_word():\n",
        "  user_word = input(\"Enter the word: \")\n",
        "  syn = wordnet.synsets(user_word) \n",
        "\n",
        "  word_list =[]\n",
        "  pos_list = []\n",
        "  antonym_list = []\n",
        "  defn_list = []\n",
        "  #rank_list = []\n",
        "\n",
        "  pos_dict = {'n':'noun','v':'verb','a':'adjective','r':'adverb','s':'singular'}\n",
        "\n",
        "  syn=list(syn)\n",
        "  list1=[]\n",
        "  for k in syn:\n",
        "    list1.append(k)\n",
        "    \n",
        "  for i in range(len(list1)):\n",
        "    value = str(list1[i])\n",
        "    chunks = re.split(\"['.]\",value)\n",
        "    word_list.append(chunks[1])\n",
        "    pos_list.append(pos_dict[chunks[2]])\n",
        "    #rank_list.append(chunks[3])\n",
        "    defn_list.append(list1[i].definition())\n",
        "\n",
        "    for syn_set in wordnet.synsets(user_word):  \n",
        "      for l in syn_set.lemmas(): \n",
        "        if l.antonyms(): \n",
        "          antonym_list.append(l.antonyms()[0].name())\n",
        "\n",
        "  df = pd.DataFrame(list(zip(word_list, pos_list,defn_list, antonym_list)),\n",
        "                  columns =['Synonym Word', 'POS','Definition','Antonym'])\n",
        "  return df"
      ],
      "execution_count": null,
      "outputs": []
    },
    {
      "cell_type": "code",
      "metadata": {
        "colab": {
          "base_uri": "https://localhost:8080/",
          "height": 190
        },
        "id": "3agajdQMZ4zG",
        "outputId": "05c98253-0fba-439e-f1c6-f4e6855bcab3"
      },
      "source": [
        "About_word()"
      ],
      "execution_count": null,
      "outputs": [
        {
          "name": "stdout",
          "output_type": "stream",
          "text": [
            "Enter the word: happy\n"
          ]
        },
        {
          "output_type": "execute_result",
          "data": {
            "text/html": [
              "<div>\n",
              "<style scoped>\n",
              "    .dataframe tbody tr th:only-of-type {\n",
              "        vertical-align: middle;\n",
              "    }\n",
              "\n",
              "    .dataframe tbody tr th {\n",
              "        vertical-align: top;\n",
              "    }\n",
              "\n",
              "    .dataframe thead th {\n",
              "        text-align: right;\n",
              "    }\n",
              "</style>\n",
              "<table border=\"1\" class=\"dataframe\">\n",
              "  <thead>\n",
              "    <tr style=\"text-align: right;\">\n",
              "      <th></th>\n",
              "      <th>Synonym Word</th>\n",
              "      <th>POS</th>\n",
              "      <th>Definition</th>\n",
              "      <th>Antonym</th>\n",
              "    </tr>\n",
              "  </thead>\n",
              "  <tbody>\n",
              "    <tr>\n",
              "      <th>0</th>\n",
              "      <td>happy</td>\n",
              "      <td>adjective</td>\n",
              "      <td>enjoying or showing or marked by joy or pleasure</td>\n",
              "      <td>unhappy</td>\n",
              "    </tr>\n",
              "    <tr>\n",
              "      <th>1</th>\n",
              "      <td>felicitous</td>\n",
              "      <td>singular</td>\n",
              "      <td>marked by good fortune</td>\n",
              "      <td>unhappy</td>\n",
              "    </tr>\n",
              "    <tr>\n",
              "      <th>2</th>\n",
              "      <td>glad</td>\n",
              "      <td>singular</td>\n",
              "      <td>eagerly disposed to act or to be of service</td>\n",
              "      <td>unhappy</td>\n",
              "    </tr>\n",
              "    <tr>\n",
              "      <th>3</th>\n",
              "      <td>happy</td>\n",
              "      <td>singular</td>\n",
              "      <td>well expressed and to the point</td>\n",
              "      <td>unhappy</td>\n",
              "    </tr>\n",
              "  </tbody>\n",
              "</table>\n",
              "</div>"
            ],
            "text/plain": [
              "  Synonym Word  ...  Antonym\n",
              "0        happy  ...  unhappy\n",
              "1   felicitous  ...  unhappy\n",
              "2         glad  ...  unhappy\n",
              "3        happy  ...  unhappy\n",
              "\n",
              "[4 rows x 4 columns]"
            ]
          },
          "metadata": {},
          "execution_count": 11
        }
      ]
    },
    {
      "cell_type": "code",
      "metadata": {
        "colab": {
          "base_uri": "https://localhost:8080/",
          "height": 97
        },
        "id": "8LAi3eTkaGsN",
        "outputId": "1459a1f9-74be-447f-eb2b-07bdcda073db"
      },
      "source": [
        "About_word()"
      ],
      "execution_count": null,
      "outputs": [
        {
          "name": "stdout",
          "output_type": "stream",
          "text": [
            "Enter the word: software\n"
          ]
        },
        {
          "output_type": "execute_result",
          "data": {
            "text/html": [
              "<div>\n",
              "<style scoped>\n",
              "    .dataframe tbody tr th:only-of-type {\n",
              "        vertical-align: middle;\n",
              "    }\n",
              "\n",
              "    .dataframe tbody tr th {\n",
              "        vertical-align: top;\n",
              "    }\n",
              "\n",
              "    .dataframe thead th {\n",
              "        text-align: right;\n",
              "    }\n",
              "</style>\n",
              "<table border=\"1\" class=\"dataframe\">\n",
              "  <thead>\n",
              "    <tr style=\"text-align: right;\">\n",
              "      <th></th>\n",
              "      <th>Synonym Word</th>\n",
              "      <th>POS</th>\n",
              "      <th>Definition</th>\n",
              "      <th>Antonym</th>\n",
              "    </tr>\n",
              "  </thead>\n",
              "  <tbody>\n",
              "    <tr>\n",
              "      <th>0</th>\n",
              "      <td>software</td>\n",
              "      <td>noun</td>\n",
              "      <td>(computer science) written programs or procedu...</td>\n",
              "      <td>hardware</td>\n",
              "    </tr>\n",
              "  </tbody>\n",
              "</table>\n",
              "</div>"
            ],
            "text/plain": [
              "  Synonym Word  ...   Antonym\n",
              "0     software  ...  hardware\n",
              "\n",
              "[1 rows x 4 columns]"
            ]
          },
          "metadata": {},
          "execution_count": 12
        }
      ]
    },
    {
      "cell_type": "code",
      "metadata": {
        "colab": {
          "base_uri": "https://localhost:8080/",
          "height": 624
        },
        "id": "8YsMrnQ8aL8G",
        "outputId": "10b16252-4ad5-4e86-ea27-7eb63e26d8d9"
      },
      "source": [
        "About_word()"
      ],
      "execution_count": null,
      "outputs": [
        {
          "name": "stdout",
          "output_type": "stream",
          "text": [
            "Enter the word: find\n"
          ]
        },
        {
          "output_type": "execute_result",
          "data": {
            "text/html": [
              "<div>\n",
              "<style scoped>\n",
              "    .dataframe tbody tr th:only-of-type {\n",
              "        vertical-align: middle;\n",
              "    }\n",
              "\n",
              "    .dataframe tbody tr th {\n",
              "        vertical-align: top;\n",
              "    }\n",
              "\n",
              "    .dataframe thead th {\n",
              "        text-align: right;\n",
              "    }\n",
              "</style>\n",
              "<table border=\"1\" class=\"dataframe\">\n",
              "  <thead>\n",
              "    <tr style=\"text-align: right;\">\n",
              "      <th></th>\n",
              "      <th>Synonym Word</th>\n",
              "      <th>POS</th>\n",
              "      <th>Definition</th>\n",
              "      <th>Antonym</th>\n",
              "    </tr>\n",
              "  </thead>\n",
              "  <tbody>\n",
              "    <tr>\n",
              "      <th>0</th>\n",
              "      <td>discovery</td>\n",
              "      <td>noun</td>\n",
              "      <td>a productive insight</td>\n",
              "      <td>lose</td>\n",
              "    </tr>\n",
              "    <tr>\n",
              "      <th>1</th>\n",
              "      <td>discovery</td>\n",
              "      <td>noun</td>\n",
              "      <td>the act of discovering something</td>\n",
              "      <td>lose</td>\n",
              "    </tr>\n",
              "    <tr>\n",
              "      <th>2</th>\n",
              "      <td>find</td>\n",
              "      <td>verb</td>\n",
              "      <td>come upon, as if by accident; meet with</td>\n",
              "      <td>lose</td>\n",
              "    </tr>\n",
              "    <tr>\n",
              "      <th>3</th>\n",
              "      <td>detect</td>\n",
              "      <td>verb</td>\n",
              "      <td>discover or determine the existence, presence,...</td>\n",
              "      <td>lose</td>\n",
              "    </tr>\n",
              "    <tr>\n",
              "      <th>4</th>\n",
              "      <td>find</td>\n",
              "      <td>verb</td>\n",
              "      <td>come upon after searching; find the location o...</td>\n",
              "      <td>lose</td>\n",
              "    </tr>\n",
              "    <tr>\n",
              "      <th>5</th>\n",
              "      <td>determine</td>\n",
              "      <td>verb</td>\n",
              "      <td>establish after a calculation, investigation, ...</td>\n",
              "      <td>lose</td>\n",
              "    </tr>\n",
              "    <tr>\n",
              "      <th>6</th>\n",
              "      <td>find</td>\n",
              "      <td>verb</td>\n",
              "      <td>come to believe on the basis of emotion, intui...</td>\n",
              "      <td>lose</td>\n",
              "    </tr>\n",
              "    <tr>\n",
              "      <th>7</th>\n",
              "      <td>witness</td>\n",
              "      <td>verb</td>\n",
              "      <td>perceive or be contemporaneous with</td>\n",
              "      <td>lose</td>\n",
              "    </tr>\n",
              "    <tr>\n",
              "      <th>8</th>\n",
              "      <td>line_up</td>\n",
              "      <td>verb</td>\n",
              "      <td>get something or somebody for a specific purpose</td>\n",
              "      <td>lose</td>\n",
              "    </tr>\n",
              "    <tr>\n",
              "      <th>9</th>\n",
              "      <td>discover</td>\n",
              "      <td>verb</td>\n",
              "      <td>make a discovery, make a new finding</td>\n",
              "      <td>lose</td>\n",
              "    </tr>\n",
              "    <tr>\n",
              "      <th>10</th>\n",
              "      <td>discover</td>\n",
              "      <td>verb</td>\n",
              "      <td>make a discovery</td>\n",
              "      <td>lose</td>\n",
              "    </tr>\n",
              "    <tr>\n",
              "      <th>11</th>\n",
              "      <td>find</td>\n",
              "      <td>verb</td>\n",
              "      <td>obtain through effort or management</td>\n",
              "      <td>lose</td>\n",
              "    </tr>\n",
              "    <tr>\n",
              "      <th>12</th>\n",
              "      <td>rule</td>\n",
              "      <td>verb</td>\n",
              "      <td>decide on and make a declaration about</td>\n",
              "      <td>lose</td>\n",
              "    </tr>\n",
              "    <tr>\n",
              "      <th>13</th>\n",
              "      <td>receive</td>\n",
              "      <td>verb</td>\n",
              "      <td>receive a specified treatment (abstract)</td>\n",
              "      <td>lose</td>\n",
              "    </tr>\n",
              "    <tr>\n",
              "      <th>14</th>\n",
              "      <td>find</td>\n",
              "      <td>verb</td>\n",
              "      <td>perceive oneself to be in a certain condition ...</td>\n",
              "      <td>lose</td>\n",
              "    </tr>\n",
              "    <tr>\n",
              "      <th>15</th>\n",
              "      <td>recover</td>\n",
              "      <td>verb</td>\n",
              "      <td>get or find back; recover the use of</td>\n",
              "      <td>lose</td>\n",
              "    </tr>\n",
              "    <tr>\n",
              "      <th>16</th>\n",
              "      <td>find</td>\n",
              "      <td>verb</td>\n",
              "      <td>succeed in reaching; arrive at</td>\n",
              "      <td>lose</td>\n",
              "    </tr>\n",
              "    <tr>\n",
              "      <th>17</th>\n",
              "      <td>find_oneself</td>\n",
              "      <td>verb</td>\n",
              "      <td>accept and make use of one's personality, abil...</td>\n",
              "      <td>lose</td>\n",
              "    </tr>\n",
              "  </tbody>\n",
              "</table>\n",
              "</div>"
            ],
            "text/plain": [
              "    Synonym Word  ... Antonym\n",
              "0      discovery  ...    lose\n",
              "1      discovery  ...    lose\n",
              "2           find  ...    lose\n",
              "3         detect  ...    lose\n",
              "4           find  ...    lose\n",
              "5      determine  ...    lose\n",
              "6           find  ...    lose\n",
              "7        witness  ...    lose\n",
              "8        line_up  ...    lose\n",
              "9       discover  ...    lose\n",
              "10      discover  ...    lose\n",
              "11          find  ...    lose\n",
              "12          rule  ...    lose\n",
              "13       receive  ...    lose\n",
              "14          find  ...    lose\n",
              "15       recover  ...    lose\n",
              "16          find  ...    lose\n",
              "17  find_oneself  ...    lose\n",
              "\n",
              "[18 rows x 4 columns]"
            ]
          },
          "metadata": {},
          "execution_count": 13
        }
      ]
    }
  ]
}